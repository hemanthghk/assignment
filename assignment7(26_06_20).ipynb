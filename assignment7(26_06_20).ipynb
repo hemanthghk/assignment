{
  "nbformat": 4,
  "nbformat_minor": 0,
  "metadata": {
    "colab": {
      "name": "assignment7(26/06/20).ipynb",
      "provenance": [],
      "authorship_tag": "ABX9TyPToQWPS3Lj4DflRrtsCPj0",
      "include_colab_link": true
    },
    "kernelspec": {
      "name": "python3",
      "display_name": "Python 3"
    }
  },
  "cells": [
    {
      "cell_type": "markdown",
      "metadata": {
        "id": "view-in-github",
        "colab_type": "text"
      },
      "source": [
        "<a href=\"https://colab.research.google.com/github/hemanthghk/assignment/blob/master/assignment7(26_06_20).ipynb\" target=\"_parent\"><img src=\"https://colab.research.google.com/assets/colab-badge.svg\" alt=\"Open In Colab\"/></a>"
      ]
    },
    {
      "cell_type": "markdown",
      "metadata": {
        "id": "lLwwnjItIEWS",
        "colab_type": "text"
      },
      "source": [
        "1. Python program to calculate length of a String without using len() function\n",
        "First we will see how to find the length of string without using library"
      ]
    },
    {
      "cell_type": "code",
      "metadata": {
        "id": "eBM2sRlCIFy3",
        "colab_type": "code",
        "colab": {
          "base_uri": "https://localhost:8080/",
          "height": 51
        },
        "outputId": "73ca9bf1-54cf-4ed8-bcb1-029ada911bad"
      },
      "source": [
        "str = input(\"Enter a string: \")\n",
        "\n",
        "counter = 0 \n",
        "\n",
        "for s in str: \n",
        "\n",
        "       counter = counter+1 \n",
        "\n",
        "print(\"Length of the input string is:\", counter)"
      ],
      "execution_count": 2,
      "outputs": [
        {
          "output_type": "stream",
          "text": [
            "Enter a string: apple\n",
            "Length of the input string is: 5\n"
          ],
          "name": "stdout"
        }
      ]
    },
    {
      "cell_type": "markdown",
      "metadata": {
        "id": "MD5LHXHnIoo9",
        "colab_type": "text"
      },
      "source": [
        "2.Write a Python program to count the number of characters (character frequency) in a string"
      ]
    },
    {
      "cell_type": "code",
      "metadata": {
        "id": "ekIcMvSdJRVf",
        "colab_type": "code",
        "colab": {
          "base_uri": "https://localhost:8080/",
          "height": 34
        },
        "outputId": "23d6fec5-69d1-47b7-e228-1a6ffb7a54b9"
      },
      "source": [
        "def char_frequency(str1):\n",
        "    dict = {}\n",
        "    for n in str1:\n",
        "        keys = dict.keys()\n",
        "        if n in keys:\n",
        "            dict[n] += 1\n",
        "        else:\n",
        "            dict[n] = 1\n",
        "    return dict\n",
        "print(char_frequency('google.com'))"
      ],
      "execution_count": 3,
      "outputs": [
        {
          "output_type": "stream",
          "text": [
            "{'g': 2, 'o': 3, 'l': 1, 'e': 1, '.': 1, 'c': 1, 'm': 1}\n"
          ],
          "name": "stdout"
        }
      ]
    },
    {
      "cell_type": "markdown",
      "metadata": {
        "id": "nP92dJGdJenG",
        "colab_type": "text"
      },
      "source": [
        "3.Write a Python program to count no:of times letter “o” appears in string=”hello world”\n"
      ]
    },
    {
      "cell_type": "code",
      "metadata": {
        "id": "Q5nYh7h5KHbd",
        "colab_type": "code",
        "colab": {
          "base_uri": "https://localhost:8080/",
          "height": 197
        },
        "outputId": "9e2ca49f-f4d6-4d9d-ae29-e0f1e21695ba"
      },
      "source": [
        "\n",
        "string='apple'\n",
        "string.find['p']\n"
      ],
      "execution_count": 13,
      "outputs": [
        {
          "output_type": "error",
          "ename": "TypeError",
          "evalue": "ignored",
          "traceback": [
            "\u001b[0;31m---------------------------------------------------------------------------\u001b[0m",
            "\u001b[0;31mTypeError\u001b[0m                                 Traceback (most recent call last)",
            "\u001b[0;32m<ipython-input-13-4a18ccd08dbb>\u001b[0m in \u001b[0;36m<module>\u001b[0;34m()\u001b[0m\n\u001b[1;32m      1\u001b[0m \u001b[0;34m\u001b[0m\u001b[0m\n\u001b[1;32m      2\u001b[0m \u001b[0mstring\u001b[0m\u001b[0;34m=\u001b[0m\u001b[0;34m'apple'\u001b[0m\u001b[0;34m\u001b[0m\u001b[0;34m\u001b[0m\u001b[0m\n\u001b[0;32m----> 3\u001b[0;31m \u001b[0mstring\u001b[0m\u001b[0;34m.\u001b[0m\u001b[0mfind\u001b[0m\u001b[0;34m[\u001b[0m\u001b[0;34m'p'\u001b[0m\u001b[0;34m]\u001b[0m\u001b[0;34m\u001b[0m\u001b[0;34m\u001b[0m\u001b[0m\n\u001b[0m",
            "\u001b[0;31mTypeError\u001b[0m: 'builtin_function_or_method' object is not subscriptable"
          ]
        }
      ]
    },
    {
      "cell_type": "markdown",
      "metadata": {
        "id": "lQprc0gdL8dc",
        "colab_type": "text"
      },
      "source": [
        "4.Write a Python script that takes input from the user and displays that input back in upper and lower cases"
      ]
    },
    {
      "cell_type": "code",
      "metadata": {
        "id": "g27mnqLxMKBg",
        "colab_type": "code",
        "colab": {
          "base_uri": "https://localhost:8080/",
          "height": 68
        },
        "outputId": "7866243e-a539-4427-e4f5-a299e45b39e0"
      },
      "source": [
        "user_input = input(\"What's your favourite language? \")\n",
        "print(\"My favourite language is \", user_input.upper())\n",
        "print(\"My favourite language is \", user_input.lower())"
      ],
      "execution_count": 8,
      "outputs": [
        {
          "output_type": "stream",
          "text": [
            "What's your favourite language? telugu\n",
            "My favourite language is  TELUGU\n",
            "My favourite language is  telugu\n"
          ],
          "name": "stdout"
        }
      ]
    },
    {
      "cell_type": "markdown",
      "metadata": {
        "id": "a8y69wYKMakA",
        "colab_type": "text"
      },
      "source": [
        "5.Write a Python program to count occurrences of a substring in a string.\n"
      ]
    },
    {
      "cell_type": "code",
      "metadata": {
        "id": "2HpIrcoFMyWN",
        "colab_type": "code",
        "colab": {
          "base_uri": "https://localhost:8080/",
          "height": 68
        },
        "outputId": "981978b8-b5f8-423e-bd28-e3a060613a0c"
      },
      "source": [
        "str1 = 'The quick brown fox jumps over the lazy dog.'\n",
        "print()\n",
        "print(str1.count(\"fox\"))\n",
        "print()"
      ],
      "execution_count": 9,
      "outputs": [
        {
          "output_type": "stream",
          "text": [
            "\n",
            "1\n",
            "\n"
          ],
          "name": "stdout"
        }
      ]
    },
    {
      "cell_type": "markdown",
      "metadata": {
        "id": "znMTSB_QM-8r",
        "colab_type": "text"
      },
      "source": [
        "6.Write a Python program to compare two strings"
      ]
    },
    {
      "cell_type": "code",
      "metadata": {
        "id": "A_bnWX7YNF7A",
        "colab_type": "code",
        "colab": {
          "base_uri": "https://localhost:8080/",
          "height": 119
        },
        "outputId": "4f743c7c-23e1-490a-8beb-9d8c9bb43dae"
      },
      "source": [
        "print(\"Enter 'x' for exit.\")\n",
        "string1 = input(\"Enter first string: \")\n",
        "if string1 == 'x':\n",
        "    exit();\n",
        "else:\n",
        "    string2 = input(\"Enter second string: \")\n",
        "    if string1 == string2:\n",
        "        print(\"\\nBoth strings are equal to each other.\")\n",
        "        print(string1,\"==\",string2);\n",
        "    else:\n",
        "        print(\"\\nStrings are not equal.\")\n",
        "        print(string1,\"!=\",string2);"
      ],
      "execution_count": 10,
      "outputs": [
        {
          "output_type": "stream",
          "text": [
            "Enter 'x' for exit.\n",
            "Enter first string: hemanth\n",
            "Enter second string: kmarr\n",
            "\n",
            "Strings are not equal.\n",
            "hemanth != kmarr\n"
          ],
          "name": "stdout"
        }
      ]
    },
    {
      "cell_type": "markdown",
      "metadata": {
        "id": "-GFeNcsKNR9m",
        "colab_type": "text"
      },
      "source": [
        "7.Write a Python program to perform Deletion of a character \n"
      ]
    },
    {
      "cell_type": "code",
      "metadata": {
        "id": "o-FsAT4DNnBM",
        "colab_type": "code",
        "colab": {
          "base_uri": "https://localhost:8080/",
          "height": 34
        },
        "outputId": "a27d5e5b-fe15-45b8-83eb-b754b649c24f"
      },
      "source": [
        "def remove(string, i):  \n",
        "    a = string[ : i]  \n",
        "    b = string[i + 1: ] \n",
        "    return a + b \n",
        "if __name__ == '__main__': \n",
        "    string = \"hemanth\"\n",
        "    i = 5\n",
        "    print(remove(string, i)) \n",
        "\n"
      ],
      "execution_count": 12,
      "outputs": [
        {
          "output_type": "stream",
          "text": [
            "hemanh\n"
          ],
          "name": "stdout"
        }
      ]
    },
    {
      "cell_type": "markdown",
      "metadata": {
        "id": "HhXbZBj7OXLY",
        "colab_type": "text"
      },
      "source": [
        "8.Write a program to print every character of a string entered by user in a new line using loop. "
      ]
    },
    {
      "cell_type": "code",
      "metadata": {
        "id": "BxYjZwb5O8J8",
        "colab_type": "code",
        "colab": {
          "base_uri": "https://localhost:8080/",
          "height": 68
        },
        "outputId": "48252ff8-78bf-4325-846d-42457fa1fc6f"
      },
      "source": [
        "w = input(\"Please enter Word: \")\n",
        "list = w.split()\n",
        "print(list)\n",
        "\n",
        "for r in list:\n",
        "    print(r, '\\t')"
      ],
      "execution_count": 14,
      "outputs": [
        {
          "output_type": "stream",
          "text": [
            "Please enter Word: bharani\n",
            "['bharani']\n",
            "bharani \t\n"
          ],
          "name": "stdout"
        }
      ]
    },
    {
      "cell_type": "markdown",
      "metadata": {
        "id": "-qQ105HxPGEy",
        "colab_type": "text"
      },
      "source": [
        "9.Write a program to find the length of the string \"refrigerator\" without using len function. "
      ]
    },
    {
      "cell_type": "code",
      "metadata": {
        "id": "4zBVkum7PL0W",
        "colab_type": "code",
        "colab": {
          "base_uri": "https://localhost:8080/",
          "height": 34
        },
        "outputId": "405b1c25-0716-423b-b5c6-97705e1f2799"
      },
      "source": [
        "a = \"refrigerator\" \n",
        "count = 0 \n",
        "for i in a:\n",
        "   count = count+1 \n",
        "print (count)  "
      ],
      "execution_count": 15,
      "outputs": [
        {
          "output_type": "stream",
          "text": [
            "12\n"
          ],
          "name": "stdout"
        }
      ]
    },
    {
      "cell_type": "markdown",
      "metadata": {
        "id": "Gk59iA1KPZqk",
        "colab_type": "text"
      },
      "source": [
        "10.Write a program to Check if a Substring is Present in a Given String.\n"
      ]
    },
    {
      "cell_type": "code",
      "metadata": {
        "id": "4Wc3UyrfPfSQ",
        "colab_type": "code",
        "colab": {
          "base_uri": "https://localhost:8080/",
          "height": 129
        },
        "outputId": "e09c1b8f-d46c-431e-9715-7964fada5b0b"
      },
      "source": [
        "ef check(string, sub_str): \n",
        "    if (string.find(sub_str) == -1): \n",
        "        print(\"NO\") \n",
        "    else: \n",
        "        print(\"YES\") \n",
        "        \n",
        "string = \"g hemanth kumar\"\n",
        "sub_str =\"hemanth\"\n",
        "check(string, sub_str)"
      ],
      "execution_count": 17,
      "outputs": [
        {
          "output_type": "error",
          "ename": "SyntaxError",
          "evalue": "ignored",
          "traceback": [
            "\u001b[0;36m  File \u001b[0;32m\"<ipython-input-17-2c56d8ccbb81>\"\u001b[0;36m, line \u001b[0;32m1\u001b[0m\n\u001b[0;31m    ef check(string, sub_str):\u001b[0m\n\u001b[0m           ^\u001b[0m\n\u001b[0;31mSyntaxError\u001b[0m\u001b[0;31m:\u001b[0m invalid syntax\n"
          ]
        }
      ]
    }
  ]
}