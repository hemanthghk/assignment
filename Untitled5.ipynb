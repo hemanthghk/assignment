{
  "nbformat": 4,
  "nbformat_minor": 0,
  "metadata": {
    "colab": {
      "name": "Untitled5.ipynb",
      "provenance": [],
      "authorship_tag": "ABX9TyMU2lOaTQfQsKOR0OIohroK",
      "include_colab_link": true
    },
    "kernelspec": {
      "name": "python3",
      "display_name": "Python 3"
    }
  },
  "cells": [
    {
      "cell_type": "markdown",
      "metadata": {
        "id": "view-in-github",
        "colab_type": "text"
      },
      "source": [
        "<a href=\"https://colab.research.google.com/github/hemanthghk/assignment/blob/master/Untitled5.ipynb\" target=\"_parent\"><img src=\"https://colab.research.google.com/assets/colab-badge.svg\" alt=\"Open In Colab\"/></a>"
      ]
    },
    {
      "cell_type": "markdown",
      "metadata": {
        "id": "6HN7d4bFr6ZG",
        "colab_type": "text"
      },
      "source": [
        "1.Program to get the largest and smallest number from a list."
      ]
    },
    {
      "cell_type": "code",
      "metadata": {
        "id": "Hx5R7sE3sHLF",
        "colab_type": "code",
        "colab": {}
      },
      "source": [
        "mylist = [6,34,9,14,87,44]\n",
        "print(\"The given list is:\",mylist)\n",
        "print(\"Largest number in the list is\",max(mylist))\n",
        "print(\"Smallest number in the list:\",min(mylist))"
      ],
      "execution_count": null,
      "outputs": []
    },
    {
      "cell_type": "markdown",
      "metadata": {
        "id": "e41pScsVsKt9",
        "colab_type": "text"
      },
      "source": [
        "2.Program to remove duplicate elements from a list."
      ]
    },
    {
      "cell_type": "code",
      "metadata": {
        "id": "_ZhDXGgosQfD",
        "colab_type": "code",
        "colab": {}
      },
      "source": [
        "mylist = [1,4,4,6,3,3,3,8,7,7,0,1]\n",
        "newlist = []\n",
        "\n",
        "for item in mylist:\n",
        "    if item not in newlist:\n",
        "        newlist.append(item)\n",
        "print(\"New list:\",newlist)"
      ],
      "execution_count": null,
      "outputs": []
    },
    {
      "cell_type": "markdown",
      "metadata": {
        "id": "0aVm8Hs4sUVs",
        "colab_type": "text"
      },
      "source": [
        "3.Program to check if the list is empty or not."
      ]
    },
    {
      "cell_type": "code",
      "metadata": {
        "id": "h1dXSELqsZtC",
        "colab_type": "code",
        "colab": {}
      },
      "source": [
        "mylist = [6,34,9,14,87,44]\n",
        "list1 = []\n",
        "if mylist == []:\n",
        "    print(\"True\")\n",
        "else:\n",
        "    print(\"False\")\n",
        "    \n",
        "if list1 != []:\n",
        "    print(\"False\")\n",
        "else:\n",
        "    print(\"True\")"
      ],
      "execution_count": null,
      "outputs": []
    },
    {
      "cell_type": "markdown",
      "metadata": {
        "id": "0etl-npSshU2",
        "colab_type": "text"
      },
      "source": [
        "4.Program to clone or copy a list."
      ]
    },
    {
      "cell_type": "code",
      "metadata": {
        "id": "raoLBYsjsmGm",
        "colab_type": "code",
        "colab": {}
      },
      "source": [
        "mylist = [6,34,9,14,87,44]\n",
        "print(\"Original list:\",mylist)\n",
        "newlist = mylist.copy()\n",
        "print(\"Copied list:\",newlist)"
      ],
      "execution_count": null,
      "outputs": []
    },
    {
      "cell_type": "markdown",
      "metadata": {
        "id": "FMBAGpF8srjA",
        "colab_type": "text"
      },
      "source": [
        "5.Program to print a specified list after removing the 0th, 4th and 5th elements."
      ]
    },
    {
      "cell_type": "code",
      "metadata": {
        "id": "66WKSfgqswIr",
        "colab_type": "code",
        "colab": {}
      },
      "source": [
        "mylist = [\"Red\",\"Green\",\"White\",\"Black\",\"Pink\",\"Yellow\"]\n",
        "mylist.pop(0)\n",
        "mylist.remove(\"Pink\")\n",
        "mylist.remove(\"Yellow\")\n",
        "print(\"New list:\",mylist)"
      ],
      "execution_count": null,
      "outputs": []
    },
    {
      "cell_type": "markdown",
      "metadata": {
        "id": "w303B1gCtKQD",
        "colab_type": "text"
      },
      "source": [
        "6.Python program to calculate the sum of elements in a list"
      ]
    },
    {
      "cell_type": "code",
      "metadata": {
        "id": "IXyOgoUntem2",
        "colab_type": "code",
        "colab": {
          "base_uri": "https://localhost:8080/",
          "height": 102
        },
        "outputId": "d7ce588c-5a1a-49fa-ee24-8486dfeb04b9"
      },
      "source": [
        "lst = []\n",
        "num = int(input('How many numbers: '))\n",
        "for n in range(num):\n",
        "    numbers = int(input('Enter number '))\n",
        "    lst.append(numbers)\n",
        "print(\"Sum of elements in given list is :\", sum(lst))"
      ],
      "execution_count": 1,
      "outputs": [
        {
          "output_type": "stream",
          "text": [
            "How many numbers: 3\n",
            "Enter number 1\n",
            "Enter number 2\n",
            "Enter number 3\n",
            "Sum of elements in given list is : 6\n"
          ],
          "name": "stdout"
        }
      ]
    },
    {
      "cell_type": "markdown",
      "metadata": {
        "id": "idleN469vJeL",
        "colab_type": "text"
      },
      "source": [
        "7.Python program to copy odd lines of one file to other"
      ]
    },
    {
      "cell_type": "code",
      "metadata": {
        "id": "J5Vjjh2mvJvf",
        "colab_type": "code",
        "colab": {}
      },
      "source": [
        "fn = open('bcd.txt', 'r') \n",
        "  \n",
        "fn1 = open('nfile.txt', 'w') \n",
        "  \n",
        "cont = fn.readlines() \n",
        "type(cont) \n",
        "for i in range(0, len(cont)): \n",
        "    if(i % 2 ! = 0): \n",
        "        fn1.write(cont[i]) \n",
        "    else: \n",
        "        pass\n",
        "  \n",
        "fn1.close() \n",
        "  \n",
        "fn1 = open('nfile.txt', 'r') \n",
        "  \n",
        "cont1 = fn1.read() \n",
        "  \n",
        "\n",
        "print(cont1) \n",
        "  \n",
        " \n",
        "fn.close() \n",
        "fn1.close() "
      ],
      "execution_count": null,
      "outputs": []
    }
  ]
}