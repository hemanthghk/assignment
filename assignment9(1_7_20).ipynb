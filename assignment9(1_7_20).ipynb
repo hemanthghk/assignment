{
  "nbformat": 4,
  "nbformat_minor": 0,
  "metadata": {
    "colab": {
      "name": "assignment9(1/7/20).ipynb",
      "provenance": [],
      "authorship_tag": "ABX9TyOR+Q6bivs5Z5h0yhqXq1fD",
      "include_colab_link": true
    },
    "kernelspec": {
      "name": "python3",
      "display_name": "Python 3"
    }
  },
  "cells": [
    {
      "cell_type": "markdown",
      "metadata": {
        "id": "view-in-github",
        "colab_type": "text"
      },
      "source": [
        "<a href=\"https://colab.research.google.com/github/hemanthghk/assignment/blob/master/assignment9(1_7_20).ipynb\" target=\"_parent\"><img src=\"https://colab.research.google.com/assets/colab-badge.svg\" alt=\"Open In Colab\"/></a>"
      ]
    },
    {
      "cell_type": "markdown",
      "metadata": {
        "id": "sIhSvX6InLjn",
        "colab_type": "text"
      },
      "source": [
        "1.Write a Python program to sum all the items in a dictionary?\n"
      ]
    },
    {
      "cell_type": "code",
      "metadata": {
        "id": "ywBChs5xnpDE",
        "colab_type": "code",
        "colab": {
          "base_uri": "https://localhost:8080/",
          "height": 34
        },
        "outputId": "ed4e5829-bd93-45fd-f05b-6ca6d9ec4e58"
      },
      "source": [
        "my_dict = {'data1':100,'data2':-54,'data3':247}\n",
        "print(sum(my_dict.values()))\n"
      ],
      "execution_count": 1,
      "outputs": [
        {
          "output_type": "stream",
          "text": [
            "293\n"
          ],
          "name": "stdout"
        }
      ]
    },
    {
      "cell_type": "markdown",
      "metadata": {
        "id": "isqZfcoDnsgC",
        "colab_type": "text"
      },
      "source": [
        "2.Python program to demonstrate accessing an element from a Dictionary?\n"
      ]
    },
    {
      "cell_type": "code",
      "metadata": {
        "id": "Tkok4Cdhnx5m",
        "colab_type": "code",
        "colab": {
          "base_uri": "https://localhost:8080/",
          "height": 119
        },
        "outputId": "b6b7ca42-6071-40a2-f1c8-c4647ceeb1c1"
      },
      "source": [
        "Dict = {1: 'oxford', 2: 'english', 3: 'dictionary'} \n",
        "print(\"\\nDictionary with the use of Integer Keys: \") \n",
        "print(Dict) \n",
        "  \n",
        "Dict = {'Name': 'oxford', 1: [1, 2, 3, 4, 5, 6]} \n",
        "print(\"\\nDictionary with the use of Mixed Keys: \") \n",
        "print(Dict) "
      ],
      "execution_count": 4,
      "outputs": [
        {
          "output_type": "stream",
          "text": [
            "\n",
            "Dictionary with the use of Integer Keys: \n",
            "{1: 'oxford', 2: 'english', 3: 'dictionary'}\n",
            "\n",
            "Dictionary with the use of Mixed Keys: \n",
            "{'Name': 'oxford', 1: [1, 2, 3, 4, 5, 6]}\n"
          ],
          "name": "stdout"
        }
      ]
    },
    {
      "cell_type": "markdown",
      "metadata": {
        "id": "91LU4SHCoZIy",
        "colab_type": "text"
      },
      "source": [
        "3.Write a python program to concate two dictionaries?\n"
      ]
    },
    {
      "cell_type": "code",
      "metadata": {
        "id": "Z0_qGnhfofgH",
        "colab_type": "code",
        "colab": {
          "base_uri": "https://localhost:8080/",
          "height": 51
        },
        "outputId": "bd83e8f0-cb92-49dc-e9dd-853d3bf76453"
      },
      "source": [
        "def Merge(dict1, dict2): \n",
        "    return(dict2.update(dict1)) \n",
        "      \n",
        "dict1 = {'a': 10, 'b': 8} \n",
        "dict2 = {'d': 6, 'c': 4} \n",
        "  \n",
        "print(Merge(dict1, dict2)) \n",
        "  \n",
        "print(dict2) "
      ],
      "execution_count": 5,
      "outputs": [
        {
          "output_type": "stream",
          "text": [
            "None\n",
            "{'d': 6, 'c': 4, 'a': 10, 'b': 8}\n"
          ],
          "name": "stdout"
        }
      ]
    },
    {
      "cell_type": "markdown",
      "metadata": {
        "id": "mJ8eIA1kpIet",
        "colab_type": "text"
      },
      "source": [
        "4.Write a python program to add keys/values in a dictionary (update dictionary)?\n"
      ]
    },
    {
      "cell_type": "code",
      "metadata": {
        "id": "fM7yiR1cpIt7",
        "colab_type": "code",
        "colab": {
          "base_uri": "https://localhost:8080/",
          "height": 34
        },
        "outputId": "fa849cac-da30-419d-896f-7a786de8daf7"
      },
      "source": [
        "class my_dictionary(dict): \n",
        "  \n",
        "    def __init__(self): \n",
        "        self = dict() \n",
        "          \n",
        "    def add(self, key, value): \n",
        "        self[key] = value \n",
        "  \n",
        "dict_obj = my_dictionary() \n",
        "  \n",
        "dict_obj.add(1, 'oxford') \n",
        "dict_obj.add(2, 'dictionary') \n",
        "  \n",
        "print(dict_obj) "
      ],
      "execution_count": 6,
      "outputs": [
        {
          "output_type": "stream",
          "text": [
            "{1: 'oxford', 2: 'dictionary'}\n"
          ],
          "name": "stdout"
        }
      ]
    },
    {
      "cell_type": "markdown",
      "metadata": {
        "id": "1PhsCeERpbng",
        "colab_type": "text"
      },
      "source": [
        "5.Write a python program to find the length of a dictionary in Python?\n"
      ]
    },
    {
      "cell_type": "code",
      "metadata": {
        "id": "a3R3rD5ppb5q",
        "colab_type": "code",
        "colab": {
          "base_uri": "https://localhost:8080/",
          "height": 68
        },
        "outputId": "653dd309-d1ef-41bf-aa2d-293cf689bef3"
      },
      "source": [
        "dict1 ={'Name':'hemanth', 'Age':19, 'Designation':'student'} \n",
        "  \n",
        "\n",
        "print(\"len() method :\", len(dict1)) \n",
        "  \n",
        "print(\"len() method with keys() :\", len(dict1.keys())) \n",
        "  \n",
        "print(\"len() method with values():\", len(dict1.values())) "
      ],
      "execution_count": 7,
      "outputs": [
        {
          "output_type": "stream",
          "text": [
            "len() method : 3\n",
            "len() method with keys() : 3\n",
            "len() method with values(): 3\n"
          ],
          "name": "stdout"
        }
      ]
    },
    {
      "cell_type": "markdown",
      "metadata": {
        "id": "d1Ud4gpFp4qd",
        "colab_type": "text"
      },
      "source": [
        "6.Write a python program to remove items from the dictionary in Python?"
      ]
    },
    {
      "cell_type": "code",
      "metadata": {
        "id": "ojM8iNz3p61h",
        "colab_type": "code",
        "colab": {
          "base_uri": "https://localhost:8080/",
          "height": 129
        },
        "outputId": "a45c1ef0-eaa4-4e74-a2e7-ec472148cf57"
      },
      "source": [
        "test_dict = {\"hemanth\" : 22, \"bumblebee\" : 21, \"ironman\" : 21, \"elon\" : 21} \n",
        "  \n",
        "print (\"The dictionary before performing remove is : \" + str(test_dict)) \n",
        "  \n",
        " del test_dict['elon'] \n",
        "  \n",
        "print (\"The dictionary after remove is : \" + str(test_dict)) \n",
        "  \n",
        "del test_dict['hemanth'] "
      ],
      "execution_count": 10,
      "outputs": [
        {
          "output_type": "error",
          "ename": "IndentationError",
          "evalue": "ignored",
          "traceback": [
            "\u001b[0;36m  File \u001b[0;32m\"<ipython-input-10-83113233a884>\"\u001b[0;36m, line \u001b[0;32m5\u001b[0m\n\u001b[0;31m    del test_dict['elon']\u001b[0m\n\u001b[0m    ^\u001b[0m\n\u001b[0;31mIndentationError\u001b[0m\u001b[0;31m:\u001b[0m unexpected indent\n"
          ]
        }
      ]
    }
  ]
}