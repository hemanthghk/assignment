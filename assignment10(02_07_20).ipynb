{
  "nbformat": 4,
  "nbformat_minor": 0,
  "metadata": {
    "colab": {
      "name": "assignment10(02/07/20).ipynb",
      "provenance": [],
      "authorship_tag": "ABX9TyMIqfNNctuZ6mlDnwkT3+R1",
      "include_colab_link": true
    },
    "kernelspec": {
      "name": "python3",
      "display_name": "Python 3"
    }
  },
  "cells": [
    {
      "cell_type": "markdown",
      "metadata": {
        "id": "view-in-github",
        "colab_type": "text"
      },
      "source": [
        "<a href=\"https://colab.research.google.com/github/hemanthghk/assignment/blob/master/assignment10(02_07_20).ipynb\" target=\"_parent\"><img src=\"https://colab.research.google.com/assets/colab-badge.svg\" alt=\"Open In Colab\"/></a>"
      ]
    },
    {
      "cell_type": "markdown",
      "metadata": {
        "id": "Z3fgah6uqy19",
        "colab_type": "text"
      },
      "source": [
        "1.Write a Python program to check whether a string starts with specified characters\n"
      ]
    },
    {
      "cell_type": "code",
      "metadata": {
        "id": "qoIm2-FNp6ui",
        "colab_type": "code",
        "colab": {
          "base_uri": "https://localhost:8080/",
          "height": 34
        },
        "outputId": "826b7ac7-3151-46fb-b7f3-0c000c662212"
      },
      "source": [
        "string = \"bmw.com\"\n",
        "print(string.startswith(\"bmw\"))"
      ],
      "execution_count": 1,
      "outputs": [
        {
          "output_type": "stream",
          "text": [
            "True\n"
          ],
          "name": "stdout"
        }
      ]
    },
    {
      "cell_type": "markdown",
      "metadata": {
        "id": "QIEDolABrHH-",
        "colab_type": "text"
      },
      "source": [
        "2.Write a Python program to print the index of the character in a string\n"
      ]
    },
    {
      "cell_type": "code",
      "metadata": {
        "id": "U4jvmXH1rVK_",
        "colab_type": "code",
        "colab": {
          "base_uri": "https://localhost:8080/",
          "height": 136
        },
        "outputId": "2a1ad5e1-8f22-4a95-a08a-652b9e5ae926"
      },
      "source": [
        "str1 = \"hemanth\"\n",
        "for index, char in enumerate(str1):\n",
        "    print(\"Current character\", char, \"position at\", index )"
      ],
      "execution_count": 2,
      "outputs": [
        {
          "output_type": "stream",
          "text": [
            "Current character h position at 0\n",
            "Current character e position at 1\n",
            "Current character m position at 2\n",
            "Current character a position at 3\n",
            "Current character n position at 4\n",
            "Current character t position at 5\n",
            "Current character h position at 6\n"
          ],
          "name": "stdout"
        }
      ]
    },
    {
      "cell_type": "markdown",
      "metadata": {
        "id": "Dcb2YahWragv",
        "colab_type": "text"
      },
      "source": [
        "3.Write a Python program to iterate over dictionaries using for loops\n"
      ]
    },
    {
      "cell_type": "code",
      "metadata": {
        "id": "nfpwKFfCrfa9",
        "colab_type": "code",
        "colab": {
          "base_uri": "https://localhost:8080/",
          "height": 68
        },
        "outputId": "9f4d6412-daf1-4ff4-d570-9183fe0d2594"
      },
      "source": [
        "d = {'Red': 1, 'Green': 2, 'Blue': 3} \n",
        "for color_key, value in d.items():\n",
        "     print(color_key, 'corresponds to ', d[color_key]) "
      ],
      "execution_count": 3,
      "outputs": [
        {
          "output_type": "stream",
          "text": [
            "Red corresponds to  1\n",
            "Green corresponds to  2\n",
            "Blue corresponds to  3\n"
          ],
          "name": "stdout"
        }
      ]
    },
    {
      "cell_type": "markdown",
      "metadata": {
        "id": "mE9g-9aBr-o5",
        "colab_type": "text"
      },
      "source": [
        "4.Write a Python Program to Remove the Given Key from a Dictionary"
      ]
    },
    {
      "cell_type": "code",
      "metadata": {
        "id": "AHTkVcuAsOpx",
        "colab_type": "code",
        "colab": {
          "base_uri": "https://localhost:8080/",
          "height": 51
        },
        "outputId": "9217f568-293c-427e-ee96-f600dede4967"
      },
      "source": [
        "myDict = {'a':1,'b':2,'c':3,'d':4}\n",
        "print(myDict)\n",
        "if 'a' in myDict: \n",
        "    del myDict['a']\n",
        "print(myDict)"
      ],
      "execution_count": 4,
      "outputs": [
        {
          "output_type": "stream",
          "text": [
            "{'a': 1, 'b': 2, 'c': 3, 'd': 4}\n",
            "{'b': 2, 'c': 3, 'd': 4}\n"
          ],
          "name": "stdout"
        }
      ]
    }
  ]
}