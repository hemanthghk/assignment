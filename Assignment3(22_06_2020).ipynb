{
  "nbformat": 4,
  "nbformat_minor": 0,
  "metadata": {
    "kernelspec": {
      "display_name": "Python 3",
      "language": "python",
      "name": "python3"
    },
    "language_info": {
      "codemirror_mode": {
        "name": "ipython",
        "version": 3
      },
      "file_extension": ".py",
      "mimetype": "text/x-python",
      "name": "python",
      "nbconvert_exporter": "python",
      "pygments_lexer": "ipython3",
      "version": "3.7.6"
    },
    "colab": {
      "name": "Assignment3(22-06-2020).ipynb",
      "provenance": [],
      "include_colab_link": true
    }
  },
  "cells": [
    {
      "cell_type": "markdown",
      "metadata": {
        "id": "view-in-github",
        "colab_type": "text"
      },
      "source": [
        "<a href=\"https://colab.research.google.com/github/hemanthghk/assignment/blob/master/Assignment3(22_06_2020).ipynb\" target=\"_parent\"><img src=\"https://colab.research.google.com/assets/colab-badge.svg\" alt=\"Open In Colab\"/></a>"
      ]
    },
    {
      "cell_type": "markdown",
      "metadata": {
        "id": "AVOMGB2PcF-I",
        "colab_type": "text"
      },
      "source": [
        "**1. Write a function to find the maximum of three numbers.**"
      ]
    },
    {
      "cell_type": "code",
      "metadata": {
        "id": "0vpRXI2acF-R",
        "colab_type": "code",
        "colab": {},
        "outputId": "5ce99612-a37f-4a97-8542-9d9d34f70669"
      },
      "source": [
        "def max_of_three(a,b,c):\n",
        "    if a>b and a>c:\n",
        "        return a\n",
        "    elif b>c and b>a:\n",
        "        return b\n",
        "    else:\n",
        "        return c\n",
        "max_of_three(1,2,3)"
      ],
      "execution_count": null,
      "outputs": [
        {
          "output_type": "execute_result",
          "data": {
            "text/plain": [
              "3"
            ]
          },
          "metadata": {
            "tags": []
          },
          "execution_count": 2
        }
      ]
    },
    {
      "cell_type": "markdown",
      "metadata": {
        "id": "T8QOYluwcF-w",
        "colab_type": "text"
      },
      "source": [
        "**2. Write a function to check whether a number is in a given range or not.**"
      ]
    },
    {
      "cell_type": "code",
      "metadata": {
        "id": "DxuPo5j_cF-1",
        "colab_type": "code",
        "colab": {},
        "outputId": "e5b7b7b4-3554-4670-b73b-b3f6027205fd"
      },
      "source": [
        "start=int(input(\"Enter the start of the range: \"))\n",
        "end=int(input(\"Enter the end of the range: \"))\n",
        "def range_check(num):\n",
        "    if num in range(start,end):\n",
        "        return True\n",
        "    else:\n",
        "        return False\n",
        "range_check(34)"
      ],
      "execution_count": null,
      "outputs": [
        {
          "output_type": "stream",
          "text": [
            "Enter the start of the range: 0\n",
            "Enter the end of the range: 50\n"
          ],
          "name": "stdout"
        },
        {
          "output_type": "execute_result",
          "data": {
            "text/plain": [
              "True"
            ]
          },
          "metadata": {
            "tags": []
          },
          "execution_count": 3
        }
      ]
    },
    {
      "cell_type": "markdown",
      "metadata": {
        "id": "AHQmmpmpcF_K",
        "colab_type": "text"
      },
      "source": [
        "**3. Write a function to calculate the factorial of a number.**"
      ]
    },
    {
      "cell_type": "code",
      "metadata": {
        "id": "gLgdeH8lcF_Z",
        "colab_type": "code",
        "colab": {},
        "outputId": "987397a4-760e-4d3c-8efc-be2c0c1600ca"
      },
      "source": [
        "def factorial(num):\n",
        "    fact=1\n",
        "    if num<0:\n",
        "        print(\"Factorial is not possible.\")\n",
        "    else:\n",
        "        for i in range(1,num+1):\n",
        "            fact*=i\n",
        "        print(\"Factorial=\",fact)\n",
        "factorial(5)"
      ],
      "execution_count": null,
      "outputs": [
        {
          "output_type": "stream",
          "text": [
            "Factorial= 120\n"
          ],
          "name": "stdout"
        }
      ]
    }
  ]
}