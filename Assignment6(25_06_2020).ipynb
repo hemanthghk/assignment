{
  "nbformat": 4,
  "nbformat_minor": 0,
  "metadata": {
    "kernelspec": {
      "display_name": "Python 3",
      "language": "python",
      "name": "python3"
    },
    "language_info": {
      "codemirror_mode": {
        "name": "ipython",
        "version": 3
      },
      "file_extension": ".py",
      "mimetype": "text/x-python",
      "name": "python",
      "nbconvert_exporter": "python",
      "pygments_lexer": "ipython3",
      "version": "3.7.6"
    },
    "colab": {
      "name": "Assignment6(25_06_2020).ipynb",
      "provenance": [],
      "include_colab_link": true
    }
  },
  "cells": [
    {
      "cell_type": "markdown",
      "metadata": {
        "id": "view-in-github",
        "colab_type": "text"
      },
      "source": [
        "<a href=\"https://colab.research.google.com/github/hemanthghk/assignment/blob/master/Assignment6(25_06_2020).ipynb\" target=\"_parent\"><img src=\"https://colab.research.google.com/assets/colab-badge.svg\" alt=\"Open In Colab\"/></a>"
      ]
    },
    {
      "cell_type": "markdown",
      "metadata": {
        "id": "2MytiZhr9n5n",
        "colab_type": "text"
      },
      "source": [
        "**1. Program to add n natural numbers.**"
      ]
    },
    {
      "cell_type": "code",
      "metadata": {
        "id": "RpEb236v9n5t",
        "colab_type": "code",
        "colab": {},
        "outputId": "a3c9f2ef-908e-4d69-c284-4f297d0854cc"
      },
      "source": [
        "n=int(input(\"Enter the value of n: \"))\n",
        "sum_numbers=0\n",
        "for i in range(1,n+1):\n",
        "    sum_numbers=sum_numbers+i\n",
        "print(\"The sum of\",n,\"natural numbers is:\",sum_numbers)"
      ],
      "execution_count": null,
      "outputs": [
        {
          "output_type": "stream",
          "text": [
            "Enter the value of n: 5\n",
            "The sum of 5 natural numbers is: 15\n"
          ],
          "name": "stdout"
        }
      ]
    },
    {
      "cell_type": "markdown",
      "metadata": {
        "id": "atpRkUmb9n6I",
        "colab_type": "text"
      },
      "source": [
        "**2. Program to count the number of even and odd numbers from a series of numbers.**"
      ]
    },
    {
      "cell_type": "code",
      "metadata": {
        "id": "jKkdZpy79n6L",
        "colab_type": "code",
        "colab": {},
        "outputId": "c749a2eb-7d24-49b6-d8ac-d49d8ae23f65"
      },
      "source": [
        "start=int(input(\"Enter the start index: \"))\n",
        "stop=int(input(\"Enter the stop index: \"))\n",
        "count_even=0\n",
        "count_odd=0\n",
        "for i in range(start,stop+1):\n",
        "    if i%2==0:\n",
        "        count_even+=1\n",
        "    else:\n",
        "        count_odd+=1\n",
        "print(\"Number of even numbers in the given range:\",count_even)\n",
        "print(\"Number of odd numbers in the given range:\",count_odd)"
      ],
      "execution_count": null,
      "outputs": [
        {
          "output_type": "stream",
          "text": [
            "Enter the start index: 1\n",
            "Enter the stop index: 25\n",
            "Number of even numbers in the given range: 12\n",
            "Number of odd numbers in the given range: 13\n"
          ],
          "name": "stdout"
        }
      ]
    },
    {
      "cell_type": "markdown",
      "metadata": {
        "id": "hzMf_g8s9n6b",
        "colab_type": "text"
      },
      "source": [
        "**3. Program that prints all numbers from 0 to 6 except 3 and 6.**"
      ]
    },
    {
      "cell_type": "code",
      "metadata": {
        "id": "PwY45AgR9n6d",
        "colab_type": "code",
        "colab": {},
        "outputId": "1d67c893-255d-44ac-c990-abe58afffaeb"
      },
      "source": [
        "for i in range(0,6):\n",
        "    if i==3:\n",
        "        continue\n",
        "    print(i, end=\" \")"
      ],
      "execution_count": null,
      "outputs": [
        {
          "output_type": "stream",
          "text": [
            "0 1 2 4 5 "
          ],
          "name": "stdout"
        }
      ]
    },
    {
      "cell_type": "markdown",
      "metadata": {
        "id": "oxddusLy9n6v",
        "colab_type": "text"
      },
      "source": [
        "**4. Program to print squares of all numbers in a list.**"
      ]
    },
    {
      "cell_type": "code",
      "metadata": {
        "id": "arR_DZtI9n6z",
        "colab_type": "code",
        "colab": {},
        "outputId": "be75a6b7-3ffa-4c63-9574-33df5aa708cf"
      },
      "source": [
        "mylist=[1,2,3,4,5]\n",
        "for num in mylist:\n",
        "    num=num**2\n",
        "    print(num, end=\" \")"
      ],
      "execution_count": null,
      "outputs": [
        {
          "output_type": "stream",
          "text": [
            "1 4 9 16 25 "
          ],
          "name": "stdout"
        }
      ]
    },
    {
      "cell_type": "markdown",
      "metadata": {
        "id": "xCmnncWe9n7F",
        "colab_type": "text"
      },
      "source": [
        "**5. Program to calculate the sum and average of n numbers in a list.**"
      ]
    },
    {
      "cell_type": "code",
      "metadata": {
        "id": "gpmzckdD9n7I",
        "colab_type": "code",
        "colab": {},
        "outputId": "21223f3d-6ea1-44e2-8463-a14bb674221d"
      },
      "source": [
        "def sum_avg(mylist):\n",
        "    sum_i=0\n",
        "    for i in mylist:\n",
        "        sum_i=sum_i+i\n",
        "    average=sum_i/len(mylist)\n",
        "    print(\"Sum=\",sum_i)\n",
        "    print(\"Average=\",average)\n",
        "sum_avg([1,2,3,4])"
      ],
      "execution_count": null,
      "outputs": [
        {
          "output_type": "stream",
          "text": [
            "Sum= 10\n",
            "Average= 2.5\n"
          ],
          "name": "stdout"
        }
      ]
    },
    {
      "cell_type": "markdown",
      "metadata": {
        "id": "9Bfjya7F9n7W",
        "colab_type": "text"
      },
      "source": [
        "**6. Program to reverse a number.**"
      ]
    },
    {
      "cell_type": "code",
      "metadata": {
        "id": "u0b5_yR29n7Z",
        "colab_type": "code",
        "colab": {},
        "outputId": "c181bf27-4965-4135-aa21-3ada36d915be"
      },
      "source": [
        "def reverse_num(num):\n",
        "    rev=0\n",
        "    while num!=0:\n",
        "        last_digit=num%10\n",
        "        rev=rev*10+last_digit\n",
        "        num=num//10\n",
        "    print(\"Reverse of the given number is:\",rev)\n",
        "reverse_num(123)"
      ],
      "execution_count": null,
      "outputs": [
        {
          "output_type": "stream",
          "text": [
            "Reverse of the given number is: 321\n"
          ],
          "name": "stdout"
        }
      ]
    },
    {
      "cell_type": "markdown",
      "metadata": {
        "id": "4kwA0c2o9n7t",
        "colab_type": "text"
      },
      "source": [
        "**7. Program to print odd numbers in a given range.**"
      ]
    },
    {
      "cell_type": "code",
      "metadata": {
        "id": "fEeKw8jM9n7w",
        "colab_type": "code",
        "colab": {},
        "outputId": "6c4593fc-d798-42c9-b02b-6d0ccee78852"
      },
      "source": [
        "start=int(input(\"Enter the start index: \"))\n",
        "stop=int(input(\"Enter the stop index: \"))\n",
        "if start==0:\n",
        "    print(\"Enter any start index other than zero.\")\n",
        "else:\n",
        "    print(\"Set of even numbers from\",start,\"to\",stop,\"are: \")\n",
        "    for num in range(start,stop+1,2):\n",
        "        print(num, end=\" \")"
      ],
      "execution_count": null,
      "outputs": [
        {
          "output_type": "stream",
          "text": [
            "Enter the start index: 1\n",
            "Enter the stop index: 20\n",
            "Set of even numbers from 1 to 20 are: \n",
            "1 3 5 7 9 11 13 15 17 19 "
          ],
          "name": "stdout"
        }
      ]
    },
    {
      "cell_type": "markdown",
      "metadata": {
        "id": "RhV8jwpP9n8H",
        "colab_type": "text"
      },
      "source": [
        "**8. Program to count the number of digits in an number.**"
      ]
    },
    {
      "cell_type": "code",
      "metadata": {
        "id": "n-xD-LdE9n8L",
        "colab_type": "code",
        "colab": {},
        "outputId": "fb805fce-fa57-45ae-9413-bb06f6d0e045"
      },
      "source": [
        "num=int(input(\"Enter a number: \"))\n",
        "mynum=str(num)\n",
        "print(\"Length of the number\",num,\"is:\",len(mynum))"
      ],
      "execution_count": null,
      "outputs": [
        {
          "output_type": "stream",
          "text": [
            "Enter a number: 15618472692\n",
            "Length of the number 15618472692 is: 11\n"
          ],
          "name": "stdout"
        }
      ]
    },
    {
      "cell_type": "markdown",
      "metadata": {
        "id": "u7YnH8KY9n8Y",
        "colab_type": "text"
      },
      "source": [
        "**9. Program to check if a number is a palindrome.**"
      ]
    },
    {
      "cell_type": "code",
      "metadata": {
        "id": "0JDpV8yJ9n8b",
        "colab_type": "code",
        "colab": {},
        "outputId": "c4550d52-ef5a-433f-c15d-729e36964f31"
      },
      "source": [
        "num=int(input(\"Enter a number: \"))\n",
        "mynum=str(num)\n",
        "if mynum[0::]==mynum[::-1]:\n",
        "    print(\"It is a palindrome\")\n",
        "else:\n",
        "    print(\"Not a palindrome.\")"
      ],
      "execution_count": null,
      "outputs": [
        {
          "output_type": "stream",
          "text": [
            "Enter a number: 141232141\n",
            "It is a palindrome\n"
          ],
          "name": "stdout"
        }
      ]
    },
    {
      "cell_type": "code",
      "metadata": {
        "id": "kOQo-8cH9n8n",
        "colab_type": "code",
        "colab": {},
        "outputId": "3ad425c4-acef-4ad6-bbe9-2271f8f91d72"
      },
      "source": [
        "num=int(input(\"Enter a number: \"))\n",
        "rev=0\n",
        "temp=num\n",
        "while temp!=0:\n",
        "    last_digit=temp%10\n",
        "    rev=rev*10+last_digit\n",
        "    temp=temp//10\n",
        "if rev==num:\n",
        "    print(num,\"is a palindrome.\")\n",
        "else:\n",
        "    print(num,\"is not a palindrome.\")"
      ],
      "execution_count": null,
      "outputs": [
        {
          "output_type": "stream",
          "text": [
            "Enter a number: 12321\n",
            "12321 is a palindrome.\n"
          ],
          "name": "stdout"
        }
      ]
    },
    {
      "cell_type": "markdown",
      "metadata": {
        "id": "lEK0Ysmj9n82",
        "colab_type": "text"
      },
      "source": [
        "**10. Program to print an identity matrix.**"
      ]
    },
    {
      "cell_type": "code",
      "metadata": {
        "id": "122O8Fg49n86",
        "colab_type": "code",
        "colab": {},
        "outputId": "ec1035c5-5ca2-4081-8606-a8aa65e5b90b"
      },
      "source": [
        "identity_matrix=[[1,0,0],\n",
        "                 [0,1,0],\n",
        "                 [0,0,1]]\n",
        "print(\"Identity Matrix=\\n\")\n",
        "print(identity_matrix[0],\"\\n\")\n",
        "print(identity_matrix[1],\"\\n\")\n",
        "print(identity_matrix[2])"
      ],
      "execution_count": null,
      "outputs": [
        {
          "output_type": "stream",
          "text": [
            "Identity Matrix=\n",
            "\n",
            "[1, 0, 0] \n",
            "\n",
            "[0, 1, 0] \n",
            "\n",
            "[0, 0, 1]\n"
          ],
          "name": "stdout"
        }
      ]
    },
    {
      "cell_type": "markdown",
      "metadata": {
        "id": "94lWqTap9n9g",
        "colab_type": "text"
      },
      "source": [
        "**11. Program to check if a number is a perfect number.**"
      ]
    },
    {
      "cell_type": "code",
      "metadata": {
        "id": "inVt2L069n9j",
        "colab_type": "code",
        "colab": {},
        "outputId": "298f4f7e-79ff-4001-d4f2-43a4e5b98d47"
      },
      "source": [
        "num=int(input(\"Enter a number: \"))\n",
        "sum_num=0\n",
        "for i in range(1,num):\n",
        "    if num%i==0:\n",
        "        sum_num=sum_num+i\n",
        "if sum_num==num:\n",
        "    print(num,\"is a perfect number.\")\n",
        "else:\n",
        "    print(num,\"is not a perfect number.\")"
      ],
      "execution_count": null,
      "outputs": [
        {
          "output_type": "stream",
          "text": [
            "Enter a number: 496\n",
            "496 is a perfect number.\n"
          ],
          "name": "stdout"
        }
      ]
    }
  ]
}