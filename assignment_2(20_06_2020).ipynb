{
  "nbformat": 4,
  "nbformat_minor": 0,
  "metadata": {
    "colab": {
      "name": "assignment 2(20/06/2020).ipynb",
      "provenance": [],
      "collapsed_sections": [],
      "authorship_tag": "ABX9TyOh1ahYI5wdQ5KomlqhDxhe",
      "include_colab_link": true
    },
    "kernelspec": {
      "name": "python3",
      "display_name": "Python 3"
    }
  },
  "cells": [
    {
      "cell_type": "markdown",
      "metadata": {
        "id": "view-in-github",
        "colab_type": "text"
      },
      "source": [
        "<a href=\"https://colab.research.google.com/github/hemanthghk/assignment/blob/master/assignment_2(20_06_2020).ipynb\" target=\"_parent\"><img src=\"https://colab.research.google.com/assets/colab-badge.svg\" alt=\"Open In Colab\"/></a>"
      ]
    },
    {
      "cell_type": "markdown",
      "metadata": {
        "id": "ESnEMDy50iK8",
        "colab_type": "text"
      },
      "source": [
        "1 Write a Python program that takes two numbers and adds them."
      ]
    },
    {
      "cell_type": "code",
      "metadata": {
        "id": "nL12o1SJ0m5U",
        "colab_type": "code",
        "colab": {}
      },
      "source": [
        "a = int(input(\"Enter the first number: \"))\n",
        "b = int(input(\"Enter the second number: \"))\n",
        "result_sum = a+b\n",
        "print(\"The sum of the first and second numbers is: \",result_sum)"
      ],
      "execution_count": null,
      "outputs": []
    },
    {
      "cell_type": "markdown",
      "metadata": {
        "id": "92CU_Qwh0yQ0",
        "colab_type": "text"
      },
      "source": [
        "2 Write a Python program that uses input to prompt a user for their name and welcomes them."
      ]
    },
    {
      "cell_type": "code",
      "metadata": {
        "id": "xqFruKwL07LC",
        "colab_type": "code",
        "colab": {}
      },
      "source": [
        "name = input(\"Please enter your name: \")\n",
        "print(\"Hello\",name)"
      ],
      "execution_count": null,
      "outputs": []
    },
    {
      "cell_type": "markdown",
      "metadata": {
        "id": "u_BewkdX0_Ci",
        "colab_type": "text"
      },
      "source": [
        "3 Write a Python program to prompt the user for hours and rate per hour to compute gross pay."
      ]
    },
    {
      "cell_type": "code",
      "metadata": {
        "id": "kMM2B1151Jbh",
        "colab_type": "code",
        "colab": {}
      },
      "source": [
        "hours = float(input(\"Enter the number of hours: \"))\n",
        "rate = float(input(\"Enter the rate per hour: \"))\n",
        "pay = hours*rate\n",
        "print(\"Gross Pay:\",pay)"
      ],
      "execution_count": null,
      "outputs": []
    },
    {
      "cell_type": "markdown",
      "metadata": {
        "id": "ihrRAdBJ1RV-",
        "colab_type": "text"
      },
      "source": [
        "4 *To round the gross pay, we can use the round() function. It takes two inputs: the number to be rounded and the number of decimal places we should round it off to. round(number, decimal_places)*\n"
      ]
    },
    {
      "cell_type": "code",
      "metadata": {
        "id": "-YcqEpuc1X7b",
        "colab_type": "code",
        "colab": {}
      },
      "source": [
        "hours = float(input(\"Enter the number of hours: \"))\n",
        "rate = float(input(\"Enter the rate per hour: \"))\n",
        "pay = hours*rate\n",
        "print(\"Gross Pay:\",round(pay, 2))"
      ],
      "execution_count": null,
      "outputs": []
    },
    {
      "cell_type": "markdown",
      "metadata": {
        "id": "CqGxsfm71fq2",
        "colab_type": "text"
      },
      "source": [
        "5 For each of the following expressions, write the value of the expression and the type (of the value of the expression).\n",
        "\n",
        "1.width//2\n",
        "2.width/2.0\n",
        "3.height/3\n",
        "4.1 + 2 * 5\n",
        "Give, width = 17 and height = 12.0\n",
        "\n",
        "Predicted Answers:\n",
        "\n",
        "1.8\n",
        "      2.8.50\n",
        "       3.4.0\n",
        "        4.11"
      ]
    },
    {
      "cell_type": "code",
      "metadata": {
        "id": "zaLB_R-Q17ap",
        "colab_type": "code",
        "colab": {
          "base_uri": "https://localhost:8080/",
          "height": 85
        },
        "outputId": "900e6265-098b-4ec0-e5ed-6cacec96ebd0"
      },
      "source": [
        "width= 17\n",
        "height= 12.0\n",
        "print(\"width//2=\",width//2)\n",
        "print(\"width/2.0=\",width/2.0)\n",
        "print(\"height/3=\",height/3)\n",
        "print(\"1+2*5=\",1+2*5)"
      ],
      "execution_count": null,
      "outputs": [
        {
          "output_type": "stream",
          "text": [
            "width//2= 8\n",
            "width/2.0= 8.5\n",
            "height/3= 4.0\n",
            "1+2*5= 11\n"
          ],
          "name": "stdout"
        }
      ]
    },
    {
      "cell_type": "code",
      "metadata": {
        "id": "_VfYgpW21kRK",
        "colab_type": "code",
        "colab": {}
      },
      "source": [
        ""
      ],
      "execution_count": null,
      "outputs": []
    }
  ]
}