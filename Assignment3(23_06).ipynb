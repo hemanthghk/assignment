{
  "nbformat": 4,
  "nbformat_minor": 0,
  "metadata": {
    "kernelspec": {
      "display_name": "Python 3",
      "language": "python",
      "name": "python3"
    },
    "language_info": {
      "codemirror_mode": {
        "name": "ipython",
        "version": 3
      },
      "file_extension": ".py",
      "mimetype": "text/x-python",
      "name": "python",
      "nbconvert_exporter": "python",
      "pygments_lexer": "ipython3",
      "version": "3.7.6"
    },
    "colab": {
      "name": "Assignment3(23_06).ipynb",
      "provenance": [],
      "include_colab_link": true
    }
  },
  "cells": [
    {
      "cell_type": "markdown",
      "metadata": {
        "id": "view-in-github",
        "colab_type": "text"
      },
      "source": [
        "<a href=\"https://colab.research.google.com/github/hemanthghk/assignment/blob/master/Assignment3(23_06).ipynb\" target=\"_parent\"><img src=\"https://colab.research.google.com/assets/colab-badge.svg\" alt=\"Open In Colab\"/></a>"
      ]
    },
    {
      "cell_type": "markdown",
      "metadata": {
        "id": "rjJPRsMZZAIC",
        "colab_type": "text"
      },
      "source": [
        "**1. Program to find the area of a circle using math functions.**"
      ]
    },
    {
      "cell_type": "code",
      "metadata": {
        "id": "SfeC_JQwZAII",
        "colab_type": "code",
        "colab": {},
        "outputId": "c2062201-426b-473e-8fb8-6b6ab510e070"
      },
      "source": [
        "import math\n",
        "radius= float(input(\"Enter the radius of the circle: \"))\n",
        "area= math.pi*(math.pow(radius,2))\n",
        "result= round(area,3)\n",
        "print(\"The area of the circle with radius\",radius,\"is:\",result)"
      ],
      "execution_count": null,
      "outputs": [
        {
          "output_type": "stream",
          "text": [
            "Enter the radius of the circle: 3\n",
            "The area of the circle with radius 3.0 is: 28.274\n"
          ],
          "name": "stdout"
        }
      ]
    },
    {
      "cell_type": "markdown",
      "metadata": {
        "id": "ybUS-Pg-ZAIr",
        "colab_type": "text"
      },
      "source": [
        "**2. Program to find the area of a regular polygon.**\n",
        "\n",
        "Formula: area= (s^2 n)/(4 tan(pi/n)),\n",
        "\n",
        "where s is the length of any side\n",
        "and n is the number of sides"
      ]
    },
    {
      "cell_type": "code",
      "metadata": {
        "id": "9Q4OsolIZAIz",
        "colab_type": "code",
        "colab": {},
        "outputId": "4e12040e-75c4-438c-a753-8ef216595b66"
      },
      "source": [
        "s= float(input(\"Enter the length of any side: \"))\n",
        "n= int(input(\"Enter the number of sides in the regular polygon: \"))\n",
        "numerator= math.pow(s,2)*n\n",
        "denominator= 4*(math.tan(math.pi/n))\n",
        "area= numerator/denominator\n",
        "print(\"The area of the regular polygon is:\",area)"
      ],
      "execution_count": null,
      "outputs": [
        {
          "output_type": "stream",
          "text": [
            "Enter the length of any side: 5\n",
            "Enter the number of sides in the regular polygon: 5\n",
            "The area of the regular polygon is: 43.01193501472418\n"
          ],
          "name": "stdout"
        }
      ]
    },
    {
      "cell_type": "markdown",
      "metadata": {
        "id": "6A8w3f5PZAJG",
        "colab_type": "text"
      },
      "source": [
        "**3. Program to generate random numbers between 1 and 1000.**"
      ]
    },
    {
      "cell_type": "code",
      "metadata": {
        "id": "vG1SwDtwZAJJ",
        "colab_type": "code",
        "colab": {},
        "outputId": "050d09fc-c204-4a7e-ef1a-d76fe154824c"
      },
      "source": [
        "import random\n",
        "x= random.randint(1,1000)\n",
        "print(\"Random number between 1 and 1000 is:\",x)"
      ],
      "execution_count": null,
      "outputs": [
        {
          "output_type": "stream",
          "text": [
            "Random number between 1 and 1000 is: 627\n"
          ],
          "name": "stdout"
        }
      ]
    },
    {
      "cell_type": "markdown",
      "metadata": {
        "id": "6kIwv0V6ZAJc",
        "colab_type": "text"
      },
      "source": [
        "**4. Program to find the following using math module:**\n",
        "\n",
        "1. sin 60\n",
        "2. cos(pi)\n",
        "3. tan(90)\n",
        "4. 5^8\n",
        "5. square root of 400\n",
        "6. floor and ceiling value of 23.56"
      ]
    },
    {
      "cell_type": "code",
      "metadata": {
        "id": "Ox4lfiK5ZAJf",
        "colab_type": "code",
        "colab": {},
        "outputId": "56023fe7-7579-4961-d9b7-374cd483398a"
      },
      "source": [
        "import math\n",
        "print(math.sin(60))\n",
        "print(math.cos(math.pi))\n",
        "print(math.tan(90))\n",
        "print(math.pow(5,8))\n",
        "print(math.sqrt(400))\n",
        "print(math.floor(23.56))\n",
        "print(math.ceil(23.56))"
      ],
      "execution_count": null,
      "outputs": [
        {
          "output_type": "stream",
          "text": [
            "-0.3048106211022167\n",
            "-1.0\n",
            "-1.995200412208242\n",
            "390625.0\n",
            "20.0\n",
            "23\n",
            "24\n"
          ],
          "name": "stdout"
        }
      ]
    }
  ]
}