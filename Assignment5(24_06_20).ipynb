{
  "nbformat": 4,
  "nbformat_minor": 0,
  "metadata": {
    "kernelspec": {
      "display_name": "Python 3",
      "language": "python",
      "name": "python3"
    },
    "language_info": {
      "codemirror_mode": {
        "name": "ipython",
        "version": 3
      },
      "file_extension": ".py",
      "mimetype": "text/x-python",
      "name": "python",
      "nbconvert_exporter": "python",
      "pygments_lexer": "ipython3",
      "version": "3.7.6"
    },
    "colab": {
      "name": "Assignment5(24_06_20).ipynb",
      "provenance": [],
      "include_colab_link": true
    }
  },
  "cells": [
    {
      "cell_type": "markdown",
      "metadata": {
        "id": "view-in-github",
        "colab_type": "text"
      },
      "source": [
        "<a href=\"https://colab.research.google.com/github/hemanthghk/assignment/blob/master/Assignment5(24_06_20).ipynb\" target=\"_parent\"><img src=\"https://colab.research.google.com/assets/colab-badge.svg\" alt=\"Open In Colab\"/></a>"
      ]
    },
    {
      "cell_type": "markdown",
      "metadata": {
        "id": "T2F11_lc-vlx",
        "colab_type": "text"
      },
      "source": [
        "**1. Program to convert binary to decimal.**"
      ]
    },
    {
      "cell_type": "code",
      "metadata": {
        "id": "YM3iimMv-vl4",
        "colab_type": "code",
        "colab": {},
        "outputId": "306a6a7d-4be5-49b7-a3cd-4d9a5afb99ea"
      },
      "source": [
        "def binaryToDecimal(n): \n",
        "    num = n; \n",
        "    dec_value = 0;  \n",
        "    base = 1; \n",
        "    temp = num; \n",
        "    while(temp): \n",
        "        last_digit = temp % 10; \n",
        "        temp = int(temp / 10); \n",
        "        dec_value += last_digit * base; \n",
        "        base = base * 2; \n",
        "    return dec_value; \n",
        "num = 10101001; \n",
        "print(binaryToDecimal(num));"
      ],
      "execution_count": null,
      "outputs": [
        {
          "output_type": "stream",
          "text": [
            "169\n"
          ],
          "name": "stdout"
        }
      ]
    },
    {
      "cell_type": "markdown",
      "metadata": {
        "id": "kUFIfSBo-vmd",
        "colab_type": "text"
      },
      "source": [
        "**2. Generate first n fibonacci numbers.**"
      ]
    },
    {
      "cell_type": "code",
      "metadata": {
        "id": "C3PANlu8-vmh",
        "colab_type": "code",
        "colab": {},
        "outputId": "d6427716-5f29-478a-86e4-f84531be9883"
      },
      "source": [
        "n= int(input(\"Enter the value of n: \"))\n",
        "n1, n2 = 0,1 \n",
        "count=0\n",
        "print(\"Fibonacci Sequence upto\",n,\"terms is: \")\n",
        "while count<n:\n",
        "    print(n1)\n",
        "    nth=n1+n2\n",
        "    n1=n2\n",
        "    n2=nth\n",
        "    count+=1"
      ],
      "execution_count": null,
      "outputs": [
        {
          "output_type": "stream",
          "text": [
            "Enter the value of n: 5\n",
            "Fibonacci Sequence upto 5 terms is: \n",
            "0\n",
            "1\n",
            "1\n",
            "2\n",
            "3\n"
          ],
          "name": "stdout"
        }
      ]
    },
    {
      "cell_type": "markdown",
      "metadata": {
        "id": "qcGpSXv--vm2",
        "colab_type": "text"
      },
      "source": [
        "**3. Display the multiplication table.**"
      ]
    },
    {
      "cell_type": "code",
      "metadata": {
        "id": "GmNbs7gt-vm7",
        "colab_type": "code",
        "colab": {},
        "outputId": "9b180c51-7121-407d-9b63-c06884e1f2ff"
      },
      "source": [
        "num=int(input(\"Enter a number to print the multiplication table: \"))\n",
        "print(\"Multiplication table:\")\n",
        "for i in range(1,11):\n",
        "    print(num,\"*\",i,\"=\",num*i)\n"
      ],
      "execution_count": null,
      "outputs": [
        {
          "output_type": "stream",
          "text": [
            "Enter a number to print the multiplication table: 3\n",
            "Multiplication table:\n",
            "3 * 1 = 3\n",
            "3 * 2 = 6\n",
            "3 * 3 = 9\n",
            "3 * 4 = 12\n",
            "3 * 5 = 15\n",
            "3 * 6 = 18\n",
            "3 * 7 = 21\n",
            "3 * 8 = 24\n",
            "3 * 9 = 27\n",
            "3 * 10 = 30\n"
          ],
          "name": "stdout"
        }
      ]
    },
    {
      "cell_type": "markdown",
      "metadata": {
        "id": "nkdDv6d_-vnP",
        "colab_type": "text"
      },
      "source": [
        "**4. GCD of two given numbers.**"
      ]
    },
    {
      "cell_type": "code",
      "metadata": {
        "id": "crIjpEPE-vnS",
        "colab_type": "code",
        "colab": {},
        "outputId": "b5567344-0332-4a5a-9439-5e1bb0e27d6b"
      },
      "source": [
        "import math\n",
        "n1= int(input(\"Enter number 1: \"))\n",
        "n2= int(input(\"Enter number 2: \"))\n",
        "print(math.gcd(n1,n2),\"is the GCD of\",n1,\"and\",n2)"
      ],
      "execution_count": null,
      "outputs": [
        {
          "output_type": "stream",
          "text": [
            "Enter number 1: 60\n",
            "Enter number 2: 48\n",
            "12 is the GCD of 60 and 48\n"
          ],
          "name": "stdout"
        }
      ]
    }
  ]
}